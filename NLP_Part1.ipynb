{
  "nbformat": 4,
  "nbformat_minor": 0,
  "metadata": {
    "colab": {
      "name": "NLP_Part1.ipynb",
      "provenance": []
    },
    "kernelspec": {
      "name": "python3",
      "display_name": "Python 3"
    },
    "language_info": {
      "name": "python"
    }
  },
  "cells": [
    {
      "cell_type": "code",
      "metadata": {
        "colab": {
          "base_uri": "https://localhost:8080/"
        },
        "id": "9K_cMTfXBKys",
        "outputId": "a22e8197-9ac6-47a6-f920-3e82c2dc348b"
      },
      "source": [
        "from sklearn.feature_extraction.text import CountVectorizer\n",
        "corpus=['this burger is very tasty and affordable.','this burger is not tasty and is affordable.','this burger is very very delicious.']\n",
        "cv=CountVectorizer(analyzer='word', ngram_range=(2, 2))\n",
        "x=cv.fit_transform(corpus)\n",
        "r=x.toarray()\n",
        "print(r)"
      ],
      "execution_count": 6,
      "outputs": [
        {
          "output_type": "stream",
          "name": "stdout",
          "text": [
            "[[1 0 1 0 0 1 0 1 1 0 1 0]\n",
            " [0 1 1 1 1 0 1 1 1 0 0 0]\n",
            " [0 0 1 0 0 1 0 0 1 1 0 1]]\n"
          ]
        }
      ]
    },
    {
      "cell_type": "code",
      "metadata": {
        "colab": {
          "base_uri": "https://localhost:8080/"
        },
        "id": "DV2hOBlqCdUn",
        "outputId": "0ee29b73-d938-4ede-a443-491e64fb0dd5"
      },
      "source": [
        "features=cv.get_feature_names()\n",
        "features"
      ],
      "execution_count": 7,
      "outputs": [
        {
          "output_type": "execute_result",
          "data": {
            "text/plain": [
              "['and affordable',\n",
              " 'and is',\n",
              " 'burger is',\n",
              " 'is affordable',\n",
              " 'is not',\n",
              " 'is very',\n",
              " 'not tasty',\n",
              " 'tasty and',\n",
              " 'this burger',\n",
              " 'very delicious',\n",
              " 'very tasty',\n",
              " 'very very']"
            ]
          },
          "metadata": {},
          "execution_count": 7
        }
      ]
    },
    {
      "cell_type": "code",
      "metadata": {
        "colab": {
          "base_uri": "https://localhost:8080/"
        },
        "id": "yV0u02EdDdzS",
        "outputId": "1eef73ee-56cc-473f-b372-3749f6f32043"
      },
      "source": [
        "from sklearn.feature_extraction.text import TfidfVectorizer\n",
        "corpus=['this burger is very tasty and affordable.','this burger is not tasty and is affordable.','this burger is very very delicious.']\n",
        "vectorizer = TfidfVectorizer()\n",
        "X = vectorizer.fit_transform(corpus)\n",
        "featur=vectorizer.get_feature_names()\n",
        "print(featur)\n",
        "#array(['and', 'document', 'first', 'is', 'one', 'second', 'the', 'third',\n",
        "       #'this'], ...)\n",
        "print(X.shape)\n"
      ],
      "execution_count": 9,
      "outputs": [
        {
          "output_type": "stream",
          "name": "stdout",
          "text": [
            "['affordable', 'and', 'burger', 'delicious', 'is', 'not', 'tasty', 'this', 'very']\n",
            "(3, 9)\n"
          ]
        }
      ]
    },
    {
      "cell_type": "code",
      "metadata": {
        "colab": {
          "base_uri": "https://localhost:8080/",
          "height": 142
        },
        "id": "mlOl2kCkFG7-",
        "outputId": "1c1e5b48-7974-4d95-d457-9db950578f8a"
      },
      "source": [
        "import pandas as pd\n",
        "matrix=X.todense()\n",
        "list1=matrix.tolist()\n",
        "df=pd.DataFrame(list1,columns=featur)\n",
        "df\n",
        "#print(matrix)"
      ],
      "execution_count": 14,
      "outputs": [
        {
          "output_type": "execute_result",
          "data": {
            "text/html": [
              "<div>\n",
              "<style scoped>\n",
              "    .dataframe tbody tr th:only-of-type {\n",
              "        vertical-align: middle;\n",
              "    }\n",
              "\n",
              "    .dataframe tbody tr th {\n",
              "        vertical-align: top;\n",
              "    }\n",
              "\n",
              "    .dataframe thead th {\n",
              "        text-align: right;\n",
              "    }\n",
              "</style>\n",
              "<table border=\"1\" class=\"dataframe\">\n",
              "  <thead>\n",
              "    <tr style=\"text-align: right;\">\n",
              "      <th></th>\n",
              "      <th>affordable</th>\n",
              "      <th>and</th>\n",
              "      <th>burger</th>\n",
              "      <th>delicious</th>\n",
              "      <th>is</th>\n",
              "      <th>not</th>\n",
              "      <th>tasty</th>\n",
              "      <th>this</th>\n",
              "      <th>very</th>\n",
              "    </tr>\n",
              "  </thead>\n",
              "  <tbody>\n",
              "    <tr>\n",
              "      <th>0</th>\n",
              "      <td>0.414896</td>\n",
              "      <td>0.414896</td>\n",
              "      <td>0.322204</td>\n",
              "      <td>0.000000</td>\n",
              "      <td>0.322204</td>\n",
              "      <td>0.000000</td>\n",
              "      <td>0.414896</td>\n",
              "      <td>0.322204</td>\n",
              "      <td>0.414896</td>\n",
              "    </tr>\n",
              "    <tr>\n",
              "      <th>1</th>\n",
              "      <td>0.346117</td>\n",
              "      <td>0.346117</td>\n",
              "      <td>0.268791</td>\n",
              "      <td>0.000000</td>\n",
              "      <td>0.537582</td>\n",
              "      <td>0.455102</td>\n",
              "      <td>0.346117</td>\n",
              "      <td>0.268791</td>\n",
              "      <td>0.000000</td>\n",
              "    </tr>\n",
              "    <tr>\n",
              "      <th>2</th>\n",
              "      <td>0.000000</td>\n",
              "      <td>0.000000</td>\n",
              "      <td>0.282851</td>\n",
              "      <td>0.478909</td>\n",
              "      <td>0.282851</td>\n",
              "      <td>0.000000</td>\n",
              "      <td>0.000000</td>\n",
              "      <td>0.282851</td>\n",
              "      <td>0.728445</td>\n",
              "    </tr>\n",
              "  </tbody>\n",
              "</table>\n",
              "</div>"
            ],
            "text/plain": [
              "   affordable       and    burger  ...     tasty      this      very\n",
              "0    0.414896  0.414896  0.322204  ...  0.414896  0.322204  0.414896\n",
              "1    0.346117  0.346117  0.268791  ...  0.346117  0.268791  0.000000\n",
              "2    0.000000  0.000000  0.282851  ...  0.000000  0.282851  0.728445\n",
              "\n",
              "[3 rows x 9 columns]"
            ]
          },
          "metadata": {},
          "execution_count": 14
        }
      ]
    }
  ]
}